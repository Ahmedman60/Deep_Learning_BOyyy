{
 "cells": [
  {
   "cell_type": "code",
   "execution_count": 107,
   "id": "bc1a3a1c",
   "metadata": {},
   "outputs": [],
   "source": [
    "import numpy as np\n",
    "import pandas as pd\n",
    "import matplotlib.pyplot as pt\n",
    "import seaborn as sns\n",
    "from sklearn.model_selection import train_test_split\n",
    "import copy"
   ]
  },
  {
   "cell_type": "code",
   "execution_count": 50,
   "id": "cd41d191",
   "metadata": {},
   "outputs": [],
   "source": [
    "df=pd.read_csv(\"marks.csv\",header=None)  #head is none is importer if your dataset doesn't contain header and you want to set it"
   ]
  },
  {
   "cell_type": "code",
   "execution_count": 51,
   "id": "f309f7db",
   "metadata": {},
   "outputs": [],
   "source": [
    "df.columns=[\"exam1\",\"exam2\",\"admitted\"]"
   ]
  },
  {
   "cell_type": "code",
   "execution_count": 52,
   "id": "0b16e963",
   "metadata": {},
   "outputs": [
    {
     "data": {
      "text/html": [
       "<div>\n",
       "<style scoped>\n",
       "    .dataframe tbody tr th:only-of-type {\n",
       "        vertical-align: middle;\n",
       "    }\n",
       "\n",
       "    .dataframe tbody tr th {\n",
       "        vertical-align: top;\n",
       "    }\n",
       "\n",
       "    .dataframe thead th {\n",
       "        text-align: right;\n",
       "    }\n",
       "</style>\n",
       "<table border=\"1\" class=\"dataframe\">\n",
       "  <thead>\n",
       "    <tr style=\"text-align: right;\">\n",
       "      <th></th>\n",
       "      <th>exam1</th>\n",
       "      <th>exam2</th>\n",
       "      <th>admitted</th>\n",
       "    </tr>\n",
       "  </thead>\n",
       "  <tbody>\n",
       "    <tr>\n",
       "      <th>0</th>\n",
       "      <td>34.623660</td>\n",
       "      <td>78.024693</td>\n",
       "      <td>0</td>\n",
       "    </tr>\n",
       "    <tr>\n",
       "      <th>1</th>\n",
       "      <td>30.286711</td>\n",
       "      <td>43.894998</td>\n",
       "      <td>0</td>\n",
       "    </tr>\n",
       "    <tr>\n",
       "      <th>2</th>\n",
       "      <td>35.847409</td>\n",
       "      <td>72.902198</td>\n",
       "      <td>0</td>\n",
       "    </tr>\n",
       "    <tr>\n",
       "      <th>3</th>\n",
       "      <td>60.182599</td>\n",
       "      <td>86.308552</td>\n",
       "      <td>1</td>\n",
       "    </tr>\n",
       "    <tr>\n",
       "      <th>4</th>\n",
       "      <td>79.032736</td>\n",
       "      <td>75.344376</td>\n",
       "      <td>1</td>\n",
       "    </tr>\n",
       "    <tr>\n",
       "      <th>...</th>\n",
       "      <td>...</td>\n",
       "      <td>...</td>\n",
       "      <td>...</td>\n",
       "    </tr>\n",
       "    <tr>\n",
       "      <th>95</th>\n",
       "      <td>83.489163</td>\n",
       "      <td>48.380286</td>\n",
       "      <td>1</td>\n",
       "    </tr>\n",
       "    <tr>\n",
       "      <th>96</th>\n",
       "      <td>42.261701</td>\n",
       "      <td>87.103851</td>\n",
       "      <td>1</td>\n",
       "    </tr>\n",
       "    <tr>\n",
       "      <th>97</th>\n",
       "      <td>99.315009</td>\n",
       "      <td>68.775409</td>\n",
       "      <td>1</td>\n",
       "    </tr>\n",
       "    <tr>\n",
       "      <th>98</th>\n",
       "      <td>55.340018</td>\n",
       "      <td>64.931938</td>\n",
       "      <td>1</td>\n",
       "    </tr>\n",
       "    <tr>\n",
       "      <th>99</th>\n",
       "      <td>74.775893</td>\n",
       "      <td>89.529813</td>\n",
       "      <td>1</td>\n",
       "    </tr>\n",
       "  </tbody>\n",
       "</table>\n",
       "<p>100 rows × 3 columns</p>\n",
       "</div>"
      ],
      "text/plain": [
       "        exam1      exam2  admitted\n",
       "0   34.623660  78.024693         0\n",
       "1   30.286711  43.894998         0\n",
       "2   35.847409  72.902198         0\n",
       "3   60.182599  86.308552         1\n",
       "4   79.032736  75.344376         1\n",
       "..        ...        ...       ...\n",
       "95  83.489163  48.380286         1\n",
       "96  42.261701  87.103851         1\n",
       "97  99.315009  68.775409         1\n",
       "98  55.340018  64.931938         1\n",
       "99  74.775893  89.529813         1\n",
       "\n",
       "[100 rows x 3 columns]"
      ]
     },
     "execution_count": 52,
     "metadata": {},
     "output_type": "execute_result"
    }
   ],
   "source": [
    "df"
   ]
  },
  {
   "cell_type": "code",
   "execution_count": 77,
   "id": "4e8fd3dc",
   "metadata": {},
   "outputs": [],
   "source": [
    "X=df[[\"exam1\",\"exam2\"]]\n",
    "Y=df[\"admitted\"]\n",
    "m=len(Y)\n",
    "x_train, x_test, y_train, y_test = train_test_split(X,Y,test_size=.30)\n"
   ]
  },
  {
   "cell_type": "code",
   "execution_count": 78,
   "id": "73bebaea",
   "metadata": {},
   "outputs": [
    {
     "name": "stderr",
     "output_type": "stream",
     "text": [
      "C:\\Users\\Acer-\\anaconda3\\lib\\site-packages\\seaborn\\_decorators.py:36: FutureWarning: Pass the following variables as keyword args: x, y. From version 0.12, the only valid positional argument will be `data`, and passing other arguments without an explicit keyword will result in an error or misinterpretation.\n",
      "  warnings.warn(\n"
     ]
    },
    {
     "data": {
      "text/plain": [
       "<AxesSubplot:xlabel='exam1', ylabel='exam2'>"
      ]
     },
     "execution_count": 78,
     "metadata": {},
     "output_type": "execute_result"
    },
    {
     "data": {
      "image/png": "[encoded data removed]",
      "text/plain": [
       "<Figure size 432x288 with 1 Axes>"
      ]
     },
     "metadata": {
      "needs_background": "light"
     },
     "output_type": "display_data"
    }
   ],
   "source": [
    "sns.scatterplot(\"exam1\",\"exam2\",data=df,hue=\"admitted\")"
   ]
  },
  {
   "cell_type": "code",
   "execution_count": 94,
   "id": "505ad653",
   "metadata": {},
   "outputs": [
    {
     "name": "stdout",
     "output_type": "stream",
     "text": [
      "(2, 70)\n"
     ]
    }
   ],
   "source": [
    "print(x_train.shape)\n",
    "#x_train.values.reshape(2,70)\n",
    "#x_test=x_test.values.reshape(2,30)\n",
    "#y_train=y_train.values.reshape(1,70)\n",
    "#y_test=y_test.values.reshape(1,30)"
   ]
  },
  {
   "cell_type": "code",
   "execution_count": 96,
   "id": "4b3db52e",
   "metadata": {},
   "outputs": [
    {
     "name": "stdout",
     "output_type": "stream",
     "text": [
      "(2, 70)\n",
      "(2, 30)\n",
      "(1, 70)\n",
      "(1, 30)\n"
     ]
    }
   ],
   "source": [
    "print(x_train.shape)\n",
    "print(x_test.shape)\n",
    "print(y_train.shape)\n",
    "print(y_test.shape)\n",
    "#meaning you insert 2 input x1 and x2 and get output y"
   ]
  },
  {
   "cell_type": "markdown",
   "id": "d61087cc",
   "metadata": {},
   "source": [
    "# So far we have just shape the data in the format that we want"
   ]
  },
  {
   "cell_type": "code",
   "execution_count": 99,
   "id": "7a6ea2be",
   "metadata": {},
   "outputs": [
    {
     "data": {
      "text/plain": [
       "(2, 70)"
      ]
     },
     "execution_count": 99,
     "metadata": {},
     "output_type": "execute_result"
    }
   ],
   "source": [
    "#We Can do standrization or scaling to increase the effeciency but later\n",
    "x_train.shape"
   ]
  },
  {
   "cell_type": "code",
   "execution_count": 237,
   "id": "3a8287a4",
   "metadata": {},
   "outputs": [],
   "source": [
    "def Optimization(w,b,X, Y, num_iterations=2000, learning_rate=0.009, print_cost=True):\n",
    "    \n",
    "    \"\"\" get for you the w and b to use them in prediction new data\"\"\"\n",
    "    \n",
    "\n",
    "    w = copy.deepcopy(w)\n",
    "    b = copy.deepcopy(b)\n",
    "  \n",
    "    costs = []\n",
    "    for i in range(num_iterations):\n",
    "        #Batch Grident Decent here each iteration is epoch\n",
    "        grads, cost = propagate(w, b, X, Y)\n",
    "        \n",
    "        dw = grads[\"dw\"]\n",
    "        db = grads[\"db\"]\n",
    "        \n",
    "        w  = w-(learning_rate*dw)\n",
    "        b = b-(learning_rate*db)\n",
    "        \n",
    "        if i % 100 == 0:\n",
    "            costs.append(cost)       \n",
    "            # Print the cost every 100 training iterations\n",
    "            if print_cost:\n",
    "                    print (\"Cost after iteration %i: %f\" %(i, cost))\n",
    "    #Testing the model                \n",
    "    Y_prediction_train= predict(w,b,x_train)    \n",
    "    \n",
    "    print(\"train accuracy: {} %\".format(100 - np.mean(np.abs(Y_prediction_train - y_train)) * 100))           \n",
    "    params = {\"w\": w,\n",
    "              \"b\": b}\n",
    "    \n",
    "    grads = {\"dw\": dw,\n",
    "             \"db\": db}\n",
    "    \n",
    "    return params, grads, costs   \n",
    "            \n",
    "    "
   ]
  },
  {
   "cell_type": "code",
   "execution_count": 238,
   "id": "4bcc84e5",
   "metadata": {},
   "outputs": [],
   "source": [
    "def sigmoid(z):\n",
    "    s=1/(1+np.exp(-z))          \n",
    "    return s"
   ]
  },
  {
   "cell_type": "code",
   "execution_count": 239,
   "id": "f6ed3535",
   "metadata": {},
   "outputs": [],
   "source": [
    "def Initialization(nx):\n",
    "    w=np.random.randn(nx,1)\n",
    "    b=0\n",
    "    return w,b"
   ]
  },
  {
   "cell_type": "code",
   "execution_count": 240,
   "id": "ec733811",
   "metadata": {},
   "outputs": [],
   "source": [
    "def propagate(w,b,X,Y):\n",
    "    #1 epoch\n",
    "    m = X.shape[1]\n",
    "     # FORWARD PROPAGATION (FROM X TO COST)\n",
    "    z=np.dot(w.T,X)+b\n",
    "    A=sigmoid(z)\n",
    "    cost=np.sum(Y*np.log(A)+(1-Y)*np.log(1-A))\n",
    "    DZ=A-Y\n",
    "    # BACKWARD PROPAGATION (TO FIND GRAD)\n",
    "    dw=(np.dot(X,DZ.T))/m\n",
    "    db=np.sum(DZ)/m\n",
    "    cost=-cost/m\n",
    "    cost = np.squeeze(np.array(cost))\n",
    "    grads = {\"dw\": dw,\n",
    "             \"db\": db}\n",
    "    return grads, cost"
   ]
  },
  {
   "cell_type": "code",
   "execution_count": 241,
   "id": "096ee492",
   "metadata": {},
   "outputs": [
    {
     "name": "stdout",
     "output_type": "stream",
     "text": [
      "Cost after iteration 0: 36.128081\n",
      "Cost after iteration 100: 7.400888\n",
      "Cost after iteration 200: 10.842487\n",
      "Cost after iteration 300: nan\n",
      "Cost after iteration 400: 0.850851\n",
      "Cost after iteration 500: 1.025154\n",
      "Cost after iteration 600: nan\n",
      "Cost after iteration 700: 0.813005\n",
      "Cost after iteration 800: 11.513804\n",
      "Cost after iteration 900: 7.632814\n",
      "Cost after iteration 1000: nan\n",
      "Cost after iteration 1100: 4.638313\n",
      "Cost after iteration 1200: 8.002299\n",
      "Cost after iteration 1300: 6.249394\n",
      "Cost after iteration 1400: 6.608829\n",
      "Cost after iteration 1500: 0.938889\n",
      "Cost after iteration 1600: nan\n",
      "Cost after iteration 1700: 5.044235\n",
      "Cost after iteration 1800: nan\n",
      "Cost after iteration 1900: 4.973161\n"
     ]
    },
    {
     "name": "stderr",
     "output_type": "stream",
     "text": [
      "<ipython-input-240-78b76642cccf>:7: RuntimeWarning: divide by zero encountered in log\n",
      "  cost=np.sum(Y*np.log(A)+(1-Y)*np.log(1-A))\n",
      "<ipython-input-240-78b76642cccf>:7: RuntimeWarning: invalid value encountered in multiply\n",
      "  cost=np.sum(Y*np.log(A)+(1-Y)*np.log(1-A))\n"
     ]
    },
    {
     "name": "stdout",
     "output_type": "stream",
     "text": [
      "train accuracy: 42.85714285714286 %\n"
     ]
    },
    {
     "data": {
      "text/plain": [
       "({'w': array([[-0.01959288],\n",
       "         [ 0.00401328]]),\n",
       "  'b': 0.26194157743205515},\n",
       " {'dw': array([[28.25949042],\n",
       "         [29.55672863]]),\n",
       "  'db': 0.42857142837160617},\n",
       " [array(36.12808053),\n",
       "  array(7.40088772),\n",
       "  array(10.84248667),\n",
       "  array(nan),\n",
       "  array(0.85085114),\n",
       "  array(1.02515388),\n",
       "  array(nan),\n",
       "  array(0.81300457),\n",
       "  array(11.51380394),\n",
       "  array(7.63281373),\n",
       "  array(nan),\n",
       "  array(4.63831277),\n",
       "  array(8.00229911),\n",
       "  array(6.24939364),\n",
       "  array(6.60882912),\n",
       "  array(0.93888896),\n",
       "  array(nan),\n",
       "  array(5.04423474),\n",
       "  array(nan),\n",
       "  array(4.97316115)])"
      ]
     },
     "execution_count": 241,
     "metadata": {},
     "output_type": "execute_result"
    }
   ],
   "source": [
    "w,b=Initialization(x_train.shape[0])\n",
    "Optimization(w,b,x_train,y_train)"
   ]
  },
  {
   "cell_type": "markdown",
   "id": "dda9fac5",
   "metadata": {},
   "source": [
    "# Starting New Approuch"
   ]
  },
  {
   "cell_type": "code",
   "execution_count": 255,
   "id": "12b89899",
   "metadata": {},
   "outputs": [],
   "source": [
    "def initialize_with_zeros(dim):\n",
    "\n",
    "    \n",
    "    # (≈ 2 lines of code)\n",
    "    # w = ...\n",
    "    # b = ...\n",
    "    # YOUR CODE STARTS HERE\n",
    "    w=np.random.randn(dim,1)*0.1\n",
    "    b=0.0\n",
    "    # YOUR CODE ENDS HERE\n",
    "\n",
    "    return w, b"
   ]
  },
  {
   "cell_type": "code",
   "execution_count": 256,
   "id": "b1cc42a8",
   "metadata": {},
   "outputs": [],
   "source": [
    "def propagate(w, b, X, Y):\n",
    "\n",
    "    \n",
    "    m = X.shape[1]\n",
    "    \n",
    "    # FORWARD PROPAGATION (FROM X TO COST)\n",
    "    #(≈ 2 lines of code)\n",
    "    # compute activation\n",
    "    # A = ...\n",
    "    # compute cost using np.dot. Don't use loops for the sum.\n",
    "    # cost = ...                                \n",
    "    # YOUR CODE STARTS HERE\n",
    "    z=np.dot(w.T,X)+b\n",
    "    A=sigmoid(z)\n",
    "    cost=np.sum(Y*np.log(A)+(1-Y)*np.log(1-A))  #if error reshape\n",
    "    DZ=A-Y\n",
    "    \n",
    "    # YOUR CODE ENDS HERE\n",
    "\n",
    "    # BACKWARD PROPAGATION (TO FIND GRAD)\n",
    "    #(≈ 2 lines of code)\n",
    "    # dw = ...\n",
    "    # db = ...\n",
    "    # YOUR CODE STARTS HERE\n",
    "    dw=(np.dot(X,DZ.T))/m\n",
    "    db=np.sum(DZ)/m\n",
    "    cost=-cost/m\n",
    "    # YOUR CODE ENDS HERE\n",
    "    cost = np.squeeze(np.array(cost))\n",
    "\n",
    "    \n",
    "    grads = {\"dw\": dw,\n",
    "             \"db\": db}\n",
    "    \n",
    "    return grads, cost"
   ]
  },
  {
   "cell_type": "code",
   "execution_count": 257,
   "id": "3e120920",
   "metadata": {},
   "outputs": [],
   "source": [
    "def optimize(w, b, X, Y, num_iterations=100, learning_rate=0.009, print_cost=False):\n",
    "    w = copy.deepcopy(w)\n",
    "    b = copy.deepcopy(b)\n",
    "    \n",
    "    costs = []\n",
    "    \n",
    "    for i in range(num_iterations):\n",
    "        # (≈ 1 lines of code)\n",
    "        # Cost and gradient calculation \n",
    "        # grads, cost = ...\n",
    "        # YOUR CODE STARTS HERE\n",
    "        \n",
    "        grads, cost = propagate(w, b, X, Y)\n",
    "                \n",
    "        # YOUR CODE ENDS HERE\n",
    "        \n",
    "        # Retrieve derivatives from grads\n",
    "        dw = grads[\"dw\"]\n",
    "        db = grads[\"db\"]\n",
    "        \n",
    "        # update rule (≈ 2 lines of code)\n",
    "        # w = ...\n",
    "        # b = ...\n",
    "        # YOUR CODE STARTS HERE\n",
    "        w  = w-(learning_rate*dw)\n",
    "        b = b-(learning_rate*db)\n",
    "        \n",
    "        # YOUR CODE ENDS HERE\n",
    "        \n",
    "        # Record the costs\n",
    "        if i % 100 == 0:\n",
    "            costs.append(cost)\n",
    "        \n",
    "            # Print the cost every 100 training iterations\n",
    "            if print_cost:\n",
    "                print (\"Cost after iteration %i: %f\" %(i, cost))\n",
    "    \n",
    "    params = {\"w\": w,\n",
    "              \"b\": b}\n",
    "    \n",
    "    grads = {\"dw\": dw,\n",
    "             \"db\": db}\n",
    "    \n",
    "    return params, grads, costs"
   ]
  },
  {
   "cell_type": "code",
   "execution_count": 258,
   "id": "b5290b6d",
   "metadata": {},
   "outputs": [],
   "source": [
    "def predict(w, b, X):\n",
    "    m = X.shape[1]\n",
    "    Y_prediction = np.zeros((1, m))\n",
    "    w = w.reshape(X.shape[0], 1)\n",
    "    \n",
    "    # Compute vector \"A\" predicting the probabilities of a cat being present in the picture\n",
    "    #(≈ 1 line of code)\n",
    "    # A = ...\n",
    "    # YOUR CODE STARTS HERE\n",
    "    Z=np.dot(w.T,X)+b\n",
    "    A=sigmoid(Z)\n",
    "    Y_prediction=A\n",
    "    # YOUR CODE ENDS HERE\n",
    "    \n",
    "    \n",
    "    for i in range(A.shape[1]):\n",
    "        \n",
    "        # Convert probabilities A[0,i] to actual predictions p[0,i]\n",
    "        #(≈ 4 lines of code)\n",
    "        # if A[0, i] > ____ :\n",
    "        #     Y_prediction[0,i] = \n",
    "        # else:\n",
    "        #     Y_prediction[0,i] = \n",
    "        # YOUR CODE STARTS HERE\n",
    "        \n",
    "        Y_prediction = np.where(Y_prediction > 0.5,1,0)\n",
    "        # YOUR CODE ENDS HERE\n",
    "    \n",
    "    return Y_prediction"
   ]
  },
  {
   "cell_type": "code",
   "execution_count": 259,
   "id": "82007ba4",
   "metadata": {},
   "outputs": [],
   "source": [
    "def model(X_train, Y_train, X_test, Y_test, num_iterations=2000, learning_rate=0.5, print_cost=False):\n",
    "\n",
    "    # (≈ 1 line of code)   \n",
    "    # initialize parameters with zeros \n",
    "    # w, b = ...\n",
    "    \n",
    "    w,b = initialize_with_zeros(X_train.shape[0])\n",
    "   \n",
    "    \n",
    "    #(≈ 1 line of code)\n",
    "    # Gradient descent \n",
    "    # params, grads, costs = ...\n",
    "    \n",
    "    params, grads, costs = optimize(w, b, X_train, Y_train, num_iterations,learning_rate, print_cost)\n",
    "    \n",
    "    #like this i have trained the model and i will get params and costs\n",
    "    # Retrieve parameters w and b from dictionary \"params\"\n",
    "    # w = ...\n",
    "    # b = ...\n",
    "    w=params[\"w\"]\n",
    "    b=params[\"b\"]\n",
    "    # Predict test/train set examples (≈ 2 lines of code)\n",
    "    # Y_prediction_test = ...\n",
    "    # Y_prediction_train = ...\n",
    "    \n",
    "    # YOUR CODE STARTS HERE\n",
    "    Y_prediction_train = predict(w,b,X_train)\n",
    "    Y_prediction_test  = predict(w,b,X_test)\n",
    "    \n",
    "    # YOUR CODE ENDS HERE\n",
    "\n",
    "    # Print train/test Errors\n",
    "    if print_cost:\n",
    "        print(\"train accuracy: {} %\".format(100 - np.mean(np.abs(Y_prediction_train - Y_train)) * 100))\n",
    "        print(\"test accuracy: {} %\".format(100 - np.mean(np.abs(Y_prediction_test - Y_test)) * 100))\n",
    "\n",
    "    \n",
    "    d = {\"costs\": costs,\n",
    "         \"Y_prediction_test\": Y_prediction_test, \n",
    "         \"Y_prediction_train\" : Y_prediction_train, \n",
    "         \"w\" : w, \n",
    "         \"b\" : b,\n",
    "         \"learning_rate\" : learning_rate,\n",
    "         \"num_iterations\": num_iterations}\n",
    "    \n",
    "    return d"
   ]
  },
  {
   "cell_type": "code",
   "execution_count": 262,
   "id": "9c3caee9",
   "metadata": {},
   "outputs": [
    {
     "name": "stdout",
     "output_type": "stream",
     "text": [
      "Cost after iteration 0: 7.943063\n",
      "Cost after iteration 100: 0.706755\n",
      "Cost after iteration 200: 0.700200\n",
      "Cost after iteration 300: 4.990019\n",
      "Cost after iteration 400: 5.019585\n",
      "Cost after iteration 500: 0.707083\n",
      "Cost after iteration 600: 4.887381\n",
      "Cost after iteration 700: 0.734103\n",
      "Cost after iteration 800: 0.706560\n",
      "Cost after iteration 900: 5.026990\n",
      "Cost after iteration 1000: 0.701641\n",
      "Cost after iteration 1100: 5.059342\n",
      "Cost after iteration 1200: 0.707521\n",
      "Cost after iteration 1300: 5.095513\n",
      "Cost after iteration 1400: 0.707758\n",
      "Cost after iteration 1500: 5.101556\n",
      "Cost after iteration 1600: 0.707998\n",
      "Cost after iteration 1700: 5.104409\n",
      "Cost after iteration 1800: 0.708119\n",
      "Cost after iteration 1900: 5.106214\n",
      "train accuracy: 52.85714285714286 %\n",
      "test accuracy: 43.333333333333336 %\n"
     ]
    }
   ],
   "source": [
    "logistic_regression_model=model(x_train, y_train, x_test, y_test, num_iterations=2000, learning_rate=0.005, print_cost=True)"
   ]
  },
  {
   "cell_type": "markdown",
   "id": "3ca64dce",
   "metadata": {},
   "source": [
    "# بهجت تاني خالص"
   ]
  },
  {
   "cell_type": "code",
   "execution_count": null,
   "id": "fafab6e8",
   "metadata": {},
   "outputs": [],
   "source": []
  },
  {
   "cell_type": "code",
   "execution_count": null,
   "id": "048c1ec2",
   "metadata": {},
   "outputs": [],
   "source": []
  }
 ],
 "metadata": {
  "kernelspec": {
   "display_name": "Python 3",
   "language": "python",
   "name": "python3"
  },
  "language_info": {
   "codemirror_mode": {
    "name": "ipython",
    "version": 3
   },
   "file_extension": ".py",
   "mimetype": "text/x-python",
   "name": "python",
   "nbconvert_exporter": "python",
   "pygments_lexer": "ipython3",
   "version": "3.8.8"
  }
 },
 "nbformat": 4,
 "nbformat_minor": 5
}
